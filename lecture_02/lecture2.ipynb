{
 "cells": [
  {
   "attachments": {},
   "cell_type": "markdown",
   "metadata": {},
   "source": [
    "# <span style=\"color:darkblue\"> Lecture 2: Variables and Lists </span>"
   ]
  },
  {
   "attachments": {},
   "cell_type": "markdown",
   "metadata": {},
   "source": [
    "<font size=\"5\"> \n",
    "\n",
    "In the previous class we:\n",
    "- Reviewed the basic structure of Jupyter notebooks\n",
    "- Showed how to install and import libraries using **virtual environments**"
   ]
  },
  {
   "attachments": {},
   "cell_type": "markdown",
   "metadata": {},
   "source": [
    "<font size=\"5\"> \n",
    "\n",
    "In this class we will:\n",
    "\n",
    "- Introduce variables and lists\n",
    "- Compute a histogram plot\n",
    "- (Optional) Common pitfalls and understanding errors"
   ]
  },
  {
   "attachments": {},
   "cell_type": "markdown",
   "metadata": {},
   "source": [
    "# <span style=\"color:darkblue\"> Import Libraries </span>"
   ]
  },
  {
   "cell_type": "code",
   "execution_count": 1,
   "metadata": {},
   "outputs": [],
   "source": [
    "# The matplotlib library is used to create graphs\n",
    "\n",
    "import matplotlib.pyplot as plt"
   ]
  },
  {
   "attachments": {},
   "cell_type": "markdown",
   "metadata": {},
   "source": [
    "## "
   ]
  },
  {
   "attachments": {},
   "cell_type": "markdown",
   "metadata": {},
   "source": [
    "# <span style=\"color:darkblue\"> Variables and Data Types </span>"
   ]
  },
  {
   "attachments": {},
   "cell_type": "markdown",
   "metadata": {},
   "source": [
    "<font size=\"5\"> \n",
    "\n",
    "Identify the type of object\n",
    "- Integers, Floats (numbers with decimals) or strings (text)\n",
    "- Type is a function, with an argument in parenthesis (...)"
   ]
  },
  {
   "cell_type": "code",
   "execution_count": 2,
   "metadata": {},
   "outputs": [
    {
     "data": {
      "text/plain": [
       "int"
      ]
     },
     "execution_count": 2,
     "metadata": {},
     "output_type": "execute_result"
    }
   ],
   "source": [
    "type(3)"
   ]
  },
  {
   "cell_type": "code",
   "execution_count": 3,
   "metadata": {},
   "outputs": [
    {
     "data": {
      "text/plain": [
       "float"
      ]
     },
     "execution_count": 3,
     "metadata": {},
     "output_type": "execute_result"
    }
   ],
   "source": [
    "type(3.5)"
   ]
  },
  {
   "cell_type": "code",
   "execution_count": 4,
   "metadata": {},
   "outputs": [
    {
<<<<<<< HEAD
     "data": {
      "text/plain": [
       "str"
      ]
     },
     "execution_count": 4,
     "metadata": {},
     "output_type": "execute_result"
=======
     "name": "stdout",
     "output_type": "stream",
     "text": [
      "<class 'int'>\n",
      "<class 'str'>\n"
     ]
>>>>>>> edc5691ba5eb59357761cbf3cf410e1f572f7f4e
    }
   ],
   "source": [
    "print(type(3))\n",
    "print(type(\"Juans car\"))"
   ]
  },
  {
   "cell_type": "code",
   "execution_count": 5,
   "metadata": {},
   "outputs": [
    {
     "data": {
      "text/plain": [
       "str"
      ]
     },
     "execution_count": 5,
     "metadata": {},
     "output_type": "execute_result"
    }
   ],
   "source": [
    "# You can define strings with either single or double quotations.\n",
    "type(\"hello\")"
   ]
  },
  {
   "cell_type": "code",
   "execution_count": 6,
   "metadata": {},
   "outputs": [
    {
     "name": "stdout",
     "output_type": "stream",
     "text": [
      "<class 'int'>\n",
      "<class 'str'>\n"
     ]
    }
   ],
   "source": [
    "print(type(2))\n",
    "print(type(\"Heelo\"))"
   ]
  },
  {
   "attachments": {},
   "cell_type": "markdown",
   "metadata": {},
   "source": [
    "<font size=\"5\"> \n",
    "\n",
    "Store Variables in memory\n",
    "\n",
    "- Assign variables with \"=\"\n",
    "- Write meaningful names, without spaces\n",
    "- Can use underscore \"_\"\n",
    "- Click \"Variables\" in the top panel of Jupyter Notebooks"
   ]
  },
  {
   "cell_type": "code",
<<<<<<< HEAD
   "execution_count": 7,
=======
   "execution_count": 6,
>>>>>>> edc5691ba5eb59357761cbf3cf410e1f572f7f4e
   "metadata": {},
   "outputs": [],
   "source": [
    "# Try choosing your names on the left of \"=\"\n",
    "\n",
    "number3 = 3\n",
    "number3andhalf = 3.5\n",
    "message_hello = \"hello\""
   ]
  },
  {
   "cell_type": "code",
<<<<<<< HEAD
   "execution_count": 8,
=======
   "execution_count": 16,
>>>>>>> edc5691ba5eb59357761cbf3cf410e1f572f7f4e
   "metadata": {},
   "outputs": [
    {
     "data": {
      "text/plain": [
       "3"
      ]
     },
<<<<<<< HEAD
     "execution_count": 8,
=======
     "execution_count": 16,
>>>>>>> edc5691ba5eb59357761cbf3cf410e1f572f7f4e
     "metadata": {},
     "output_type": "execute_result"
    }
   ],
   "source": [
    "# You can show the output by writing the name of the variable\n",
    "# Try including different variables\n",
    "\n",
    "number3"
   ]
  },
  {
   "cell_type": "code",
<<<<<<< HEAD
   "execution_count": 10,
=======
   "execution_count": 7,
   "metadata": {},
   "outputs": [],
   "source": [
    "name = 'Juan'"
   ]
  },
  {
   "cell_type": "code",
   "execution_count": 17,
>>>>>>> edc5691ba5eb59357761cbf3cf410e1f572f7f4e
   "metadata": {},
   "outputs": [
    {
     "name": "stdout",
     "output_type": "stream",
     "text": [
      "3\n",
      "3.5\n"
     ]
    }
   ],
   "source": [
    "# Jupyter only shows the output for the last object\n",
    "# You can show multiple outputs by using the function \"print\"\n",
    "\n",
    "print(number3)\n",
    "print(number3andhalf)"
   ]
  },
  {
   "attachments": {},
   "cell_type": "markdown",
   "metadata": {},
   "source": [
    "<font size=\"5\"> \n",
    "\n",
    "Basic operations on integers and floats\n",
    "\n",
    "- Addition (+), Multiplication (*), Subtraction (-), Division (/), Exponentiation (**)\n",
    "- If you try this on a string it will not work"
   ]
  },
  {
   "cell_type": "code",
   "execution_count": 8,
   "metadata": {},
   "outputs": [
    {
     "name": "stdout",
     "output_type": "stream",
     "text": [
      "6\n",
      "5\n",
      "1\n",
      "1.5\n",
      "9\n"
     ]
    }
   ],
   "source": [
    "# Basic operations on numbers\n",
    "print(3*2)\n",
    "print(3+2)\n",
    "print(3-2)\n",
    "print(3/2)\n",
    "print(3**2)"
   ]
  },
  {
   "attachments": {},
   "cell_type": "markdown",
   "metadata": {},
   "source": [
    "<font size=\"5\"> \n",
    "\n",
    "Use parenthesis for composite operations"
   ]
  },
  {
   "cell_type": "code",
   "execution_count": 9,
   "metadata": {},
   "outputs": [
    {
     "data": {
      "text/plain": [
       "1.4"
      ]
     },
     "execution_count": 9,
     "metadata": {},
     "output_type": "execute_result"
    }
   ],
   "source": [
    "(3 + 4) / 5"
   ]
  },
  {
   "cell_type": "code",
<<<<<<< HEAD
   "execution_count": 11,
=======
   "execution_count": 10,
>>>>>>> edc5691ba5eb59357761cbf3cf410e1f572f7f4e
   "metadata": {},
   "outputs": [
    {
     "data": {
      "text/plain": [
<<<<<<< HEAD
       "3.25"
      ]
     },
     "execution_count": 11,
=======
       "1.4"
      ]
     },
     "execution_count": 10,
>>>>>>> edc5691ba5eb59357761cbf3cf410e1f572f7f4e
     "metadata": {},
     "output_type": "execute_result"
    }
   ],
   "source": [
    "# Try doing the same with the variable \"number3\" or \"number3andhalf instead.\n",
    "\n",
<<<<<<< HEAD
    "(number3 + number3andhalf)/2\n"
=======
    "\n",
    "(number3+4)/5"
>>>>>>> edc5691ba5eb59357761cbf3cf410e1f572f7f4e
   ]
  },
  {
   "attachments": {},
   "cell_type": "markdown",
   "metadata": {},
   "source": [
    "<font size=\"5\"> \n",
    "\n",
    "Concatenate \"add\" two strings"
   ]
  },
  {
   "cell_type": "code",
<<<<<<< HEAD
   "execution_count": 12,
=======
   "execution_count": 20,
>>>>>>> edc5691ba5eb59357761cbf3cf410e1f572f7f4e
   "metadata": {},
   "outputs": [
    {
     "data": {
      "text/plain": [
       "'My name is 3'"
      ]
     },
<<<<<<< HEAD
     "execution_count": 12,
=======
     "execution_count": 20,
>>>>>>> edc5691ba5eb59357761cbf3cf410e1f572f7f4e
     "metadata": {},
     "output_type": "execute_result"
    }
   ],
   "source": [
    "# Use the + symbol to concatenate two or more strings\n",
    "# This is very useful to contract strings where one part stays the same,\n",
    "# and the other is a user input.\n",
    "\n",
    "name = str(3)\n",
    "\n",
    "\"My name is\" + \" \"  + name"
   ]
  },
  {
   "attachments": {},
   "cell_type": "markdown",
   "metadata": {},
   "source": [
    "# <span style=\"color:darkblue\"> Lists </span>"
   ]
  },
  {
   "attachments": {},
   "cell_type": "markdown",
   "metadata": {},
   "source": [
    "<font size=\"5\"> \n",
    "\n",
    "Store Lists\n",
    "\n",
    "- Lists are always denote by square brackets [...]\n",
    "- Elements separated by commas"
   ]
  },
  {
   "cell_type": "code",
<<<<<<< HEAD
   "execution_count": 13,
=======
   "execution_count": 24,
>>>>>>> edc5691ba5eb59357761cbf3cf410e1f572f7f4e
   "metadata": {},
   "outputs": [],
   "source": [
    "# List of numbers\n",
    "# Example: Suppose you ask 5 people about their favorite color. The results:\n",
    "list_numbers = [1,2,3,4,5]\n",
    "list_numbers_sqr = [1,4,9,16,25]"
   ]
  },
  {
   "cell_type": "markdown",
   "metadata": {},
   "source": [
    "Squre brackets [] for the list instead of ()"
   ]
  },
  {
   "cell_type": "code",
   "execution_count": 26,
<<<<<<< HEAD
=======
   "metadata": {},
   "outputs": [
    {
     "data": {
      "text/plain": [
       "tuple"
      ]
     },
     "execution_count": 26,
     "metadata": {},
     "output_type": "execute_result"
    }
   ],
   "source": [
    "type(list_numbers)"
   ]
  },
  {
   "cell_type": "code",
   "execution_count": 27,
>>>>>>> edc5691ba5eb59357761cbf3cf410e1f572f7f4e
   "metadata": {},
   "outputs": [],
   "source": [
    "# List with strings\n",
    "# Example: Suppose you ask 5 people about their favorite color. The results:\n",
    "list_colors = [\"red\",\"yellow\",\"yellow\", \"green\",\"red\"]"
   ]
  },
  {
   "cell_type": "code",
<<<<<<< HEAD
   "execution_count": 27,
=======
   "execution_count": 38,
>>>>>>> edc5691ba5eb59357761cbf3cf410e1f572f7f4e
   "metadata": {},
   "outputs": [],
   "source": [
    "# List with mixed types\n",
<<<<<<< HEAD
    "list_mixed = [\"red\",1,\"yellow\",4,5]"
=======
    "list_mixed = [\"red\",1,\"yellow\",4,5, 3.5]"
>>>>>>> edc5691ba5eb59357761cbf3cf410e1f572f7f4e
   ]
  },
  {
   "cell_type": "code",
<<<<<<< HEAD
   "execution_count": 30,
   "metadata": {},
   "outputs": [],
   "source": [
    "# can contain any thing in a list\n",
    "another_list = [list_mixed, 3 , 'h']"
=======
   "execution_count": 39,
   "metadata": {},
   "outputs": [],
   "source": [
    "another_list = [list_mixed, 3, 'h']"
>>>>>>> edc5691ba5eb59357761cbf3cf410e1f572f7f4e
   ]
  },
  {
   "attachments": {},
   "cell_type": "markdown",
   "metadata": {},
   "source": [
    "<font size=\"5\">\n",
    "\n",
    "Extract individual elements from a list\n",
    "\n",
    "- Use square brackets, e.g. list_colors[2]\n",
    "- Python lists always start at the **ZERO** position\n",
    "\n",
    "\n",
    "<img src=\"figures/house_diagram.png\" alt=\"drawing\" width=\"650\"/>"
   ]
  },
  {
   "cell_type": "code",
<<<<<<< HEAD
   "execution_count": 1,
=======
   "execution_count": 31,
>>>>>>> edc5691ba5eb59357761cbf3cf410e1f572f7f4e
   "metadata": {},
   "outputs": [
    {
     "data": {
      "text/plain": [
       "'ground'"
      ]
     },
<<<<<<< HEAD
     "execution_count": 1,
=======
     "execution_count": 31,
>>>>>>> edc5691ba5eb59357761cbf3cf410e1f572f7f4e
     "metadata": {},
     "output_type": "execute_result"
    }
   ],
   "source": [
    "floors_england = [\"ground\", \"floor1\", \"floor2\" ]\n",
    "\n",
    "floors_england[0]"
   ]
  },
  {
   "cell_type": "code",
<<<<<<< HEAD
   "execution_count": 31,
   "metadata": {},
   "outputs": [
    {
     "name": "stdout",
     "output_type": "stream",
     "text": [
      "<class 'list'>\n",
      "['red', 1, 'yellow', 4, 5]\n"
     ]
    }
   ],
   "source": [
    "print(type(another_list[0]))\n",
    "print(another_list[0])\n"
=======
   "execution_count": 41,
   "metadata": {},
   "outputs": [
    {
     "data": {
      "text/plain": [
       "[['red', 1, 'yellow', 4, 5, 3.5], 3, 'h']"
      ]
     },
     "execution_count": 41,
     "metadata": {},
     "output_type": "execute_result"
    }
   ],
   "source": [
    "another_list"
>>>>>>> edc5691ba5eb59357761cbf3cf410e1f572f7f4e
   ]
  },
  {
   "cell_type": "code",
<<<<<<< HEAD
   "execution_count": 37,
=======
   "execution_count": 42,
   "metadata": {},
   "outputs": [
    {
     "data": {
      "text/plain": [
       "'yellow'"
      ]
     },
     "execution_count": 42,
     "metadata": {},
     "output_type": "execute_result"
    }
   ],
   "source": [
    "another_list[0][2]"
   ]
  },
  {
   "cell_type": "code",
   "execution_count": 43,
>>>>>>> edc5691ba5eb59357761cbf3cf410e1f572f7f4e
   "metadata": {},
   "outputs": [
    {
     "name": "stdout",
     "output_type": "stream",
     "text": [
      "red\n",
      "yellow\n",
      "yellow\n",
      "green\n",
      "red\n"
     ]
    }
   ],
   "source": [
    "# Use print to show the output of multiple commands\n",
    "print(list_colors[0])\n",
    "print(list_colors[1])\n",
    "print(list_colors[2])\n",
    "print(list_colors[3])\n",
    "print(list_colors[4])"
   ]
  },
  {
   "cell_type": "code",
<<<<<<< HEAD
   "execution_count": 32,
=======
   "execution_count": 42,
>>>>>>> edc5691ba5eb59357761cbf3cf410e1f572f7f4e
   "metadata": {},
   "outputs": [
    {
     "name": "stdout",
     "output_type": "stream",
     "text": [
      "327\n"
     ]
    }
   ],
   "source": [
    "# Try creating a list with four elements, and then selecting the third entry\n",
    "list123 = [1, 'heelo', 327, 8]\n",
    "print(list123[2])\n"
   ]
  },
  {
   "cell_type": "code",
   "execution_count": 44,
   "metadata": {},
   "outputs": [
    {
     "data": {
      "text/plain": [
       "['red', 'yellow', 'yellow', 'green', 'red']"
      ]
     },
     "execution_count": 44,
     "metadata": {},
     "output_type": "execute_result"
    }
   ],
   "source": [
    "list_colors"
   ]
  },
  {
   "attachments": {},
   "cell_type": "markdown",
   "metadata": {},
   "source": [
    "# <span style=\"color:darkblue\"> Visualizing Lists </span>"
   ]
  },
  {
   "attachments": {},
   "cell_type": "markdown",
   "metadata": {},
   "source": [
    "<font size=\"5\"> \n",
    "\n",
    "A histogram for categorical data"
   ]
  },
  {
   "cell_type": "code",
<<<<<<< HEAD
   "execution_count": 33,
=======
   "execution_count": 51,
   "metadata": {},
   "outputs": [],
   "source": [
    "list_list = list_colors + ['red']"
   ]
  },
  {
   "cell_type": "code",
   "execution_count": 52,
>>>>>>> edc5691ba5eb59357761cbf3cf410e1f572f7f4e
   "metadata": {},
   "outputs": [
    {
     "data": {
      "text/plain": [
       "(array([3., 0., 0., 0., 0., 2., 0., 0., 0., 1.]),\n",
       " array([0. , 0.2, 0.4, 0.6, 0.8, 1. , 1.2, 1.4, 1.6, 1.8, 2. ]),\n",
       " <BarContainer object of 10 artists>)"
      ]
     },
<<<<<<< HEAD
     "execution_count": 33,
=======
     "execution_count": 52,
>>>>>>> edc5691ba5eb59357761cbf3cf410e1f572f7f4e
     "metadata": {},
     "output_type": "execute_result"
    },
    {
     "data": {
<<<<<<< HEAD
      "image/png": "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",
=======
      "image/png": "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",
>>>>>>> edc5691ba5eb59357761cbf3cf410e1f572f7f4e
      "text/plain": [
       "<Figure size 640x480 with 1 Axes>"
      ]
     },
     "metadata": {},
     "output_type": "display_data"
    }
   ],
   "source": [
    "# This creates a histogram with the \"list_colors\"\n",
<<<<<<< HEAD
    "# frequency of these values\n",
    "plt.hist(x= list_colors)"
=======
    "plt.hist(x= list_list)"
>>>>>>> edc5691ba5eb59357761cbf3cf410e1f572f7f4e
   ]
  },
  {
   "cell_type": "code",
<<<<<<< HEAD
   "execution_count": 34,
=======
   "execution_count": 44,
>>>>>>> edc5691ba5eb59357761cbf3cf410e1f572f7f4e
   "metadata": {},
   "outputs": [
    {
     "data": {
      "text/plain": [
       "(array([3., 3., 0., 2., 0., 1., 1., 0., 0., 1.]),\n",
       " array([1. , 1.6, 2.2, 2.8, 3.4, 4. , 4.6, 5.2, 5.8, 6.4, 7. ]),\n",
       " <BarContainer object of 10 artists>)"
      ]
     },
     "execution_count": 34,
     "metadata": {},
     "output_type": "execute_result"
    },
    {
     "data": {
      "image/png": "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",
      "text/plain": [
       "<Figure size 640x480 with 1 Axes>"
      ]
     },
     "metadata": {},
     "output_type": "display_data"
    }
   ],
   "source": [
    "# Creat a list with repeated string values\n",
    "# Compute your own histogram\n",
    "list11223 = [1, 2, 3, 2, 3, 4, 5, 1, 1, 2, 7]\n",
    "plt.hist(x=list11223)\n"
   ]
  },
  {
   "attachments": {},
   "cell_type": "markdown",
   "metadata": {},
   "source": [
    "<font size=\"5\"> \n",
    "\n",
    "A scatterplot for continuous data"
   ]
  },
  {
   "cell_type": "code",
<<<<<<< HEAD
   "execution_count": 35,
=======
   "execution_count": 54,
   "metadata": {},
   "outputs": [
    {
     "name": "stdout",
     "output_type": "stream",
     "text": [
      "[1, 2, 3, 4, 5]\n",
      "[1, 4, 9, 16, 25]\n"
     ]
    }
   ],
   "source": [
    "print(list(list_numbers))\n",
    "print(list_numbers_sqr)"
   ]
  },
  {
   "cell_type": "code",
   "execution_count": 56,
>>>>>>> edc5691ba5eb59357761cbf3cf410e1f572f7f4e
   "metadata": {},
   "outputs": [
    {
     "data": {
<<<<<<< HEAD
=======
      "text/plain": [
       "tuple"
      ]
     },
     "execution_count": 56,
     "metadata": {},
     "output_type": "execute_result"
    }
   ],
   "source": [
    "type(list_numbers)"
   ]
  },
  {
   "cell_type": "code",
   "execution_count": 57,
   "metadata": {},
   "outputs": [
    {
     "data": {
>>>>>>> edc5691ba5eb59357761cbf3cf410e1f572f7f4e
      "image/png": "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",
      "text/plain": [
       "<Figure size 640x480 with 1 Axes>"
      ]
     },
     "metadata": {},
     "output_type": "display_data"
    }
   ],
   "source": [
    "plt.scatter(x = list_numbers, y = list_numbers_sqr)\n",
    "plt.xlabel(\"A meaningful name for the X-axis\")\n",
    "plt.ylabel(\"Favourite name for Y-axis\")\n",
    "plt.show()"
   ]
  },
  {
   "cell_type": "code",
<<<<<<< HEAD
   "execution_count": 38,
=======
   "execution_count": 46,
>>>>>>> edc5691ba5eb59357761cbf3cf410e1f572f7f4e
   "metadata": {},
   "outputs": [
    {
     "data": {
      "image/png": "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",
      "text/plain": [
       "<Figure size 640x480 with 1 Axes>"
      ]
     },
     "metadata": {},
     "output_type": "display_data"
    }
   ],
   "source": [
    "# Create a list with numbers, then create your own scatter plot\n",
    "list11 = [1, 2, 4, 7, 8 ,9, 0, 3, 10]\n",
    "list22 = [2, 3, 4, 5, 6, 4, 3, 2, 8]\n",
    "plt.scatter(x = list11, y = list22)\n",
    "plt.xlabel(\"A meaningful name for the X-axis\")\n",
    "plt.ylabel(\"Favourite name for Y-axis\")\n",
    "plt.show()\n",
    "\n"
   ]
  },
  {
   "attachments": {},
   "cell_type": "markdown",
   "metadata": {},
   "source": [
    "# <span style=\"color:darkblue\"> Additional Resources </span>\n",
    "\n",
    "<font size=\"5\"> \n",
    "\n",
    "Check out additional examples at:\n",
    "\n",
    "- https://allendowney.github.io/ElementsOfDataScience/01_variables.html\n",
    "- https://allendowney.github.io/ElementsOfDataScience/03_arrays.html\n",
    "\n"
   ]
  },
  {
   "attachments": {},
   "cell_type": "markdown",
   "metadata": {},
   "source": [
    "# <span style=\"color:darkblue\"> (Optional) Common Pitfalls </span>\n",
    "\n",
    "<font size=\"5\"> \n",
    "\n",
    "It's very common to enter a command incorrectly\n",
    "- There will be an arrow pointing to the problematic line\n",
    "- Focus on the message following \"NameError\""
   ]
  },
  {
   "attachments": {},
   "cell_type": "markdown",
   "metadata": {},
   "source": [
    "<font size=\"5\"> \n",
    "\n",
    "Pro Tip:\n",
    "- Type in google the message for \"NameError\" plus the word Python\n",
    "- Somebody may have a solution/explanation!"
   ]
  },
  {
   "attachments": {},
   "cell_type": "markdown",
   "metadata": {},
   "source": [
    "<font size=\"5\"> \n",
    "\n",
    "Example 1: Not including quotations"
   ]
  },
  {
   "cell_type": "code",
   "execution_count": 59,
   "metadata": {},
   "outputs": [],
   "source": [
    "hello = 'hello'"
   ]
  },
  {
   "cell_type": "code",
   "execution_count": 62,
   "metadata": {},
   "outputs": [
    {
     "ename": "NameError",
     "evalue": "name 'hellos' is not defined",
     "output_type": "error",
     "traceback": [
      "\u001b[1;31m---------------------------------------------------------------------------\u001b[0m",
      "\u001b[1;31mNameError\u001b[0m                                 Traceback (most recent call last)",
      "Cell \u001b[1;32mIn[62], line 3\u001b[0m\n\u001b[0;32m      1\u001b[0m \u001b[39m# When you don't include quotation marks,\u001b[39;00m\n\u001b[0;32m      2\u001b[0m \u001b[39m# Python will try to search for a variable called Hello\u001b[39;00m\n\u001b[1;32m----> 3\u001b[0m \u001b[39mtype\u001b[39m(hellos)\n",
      "\u001b[1;31mNameError\u001b[0m: name 'hellos' is not defined"
     ]
    }
   ],
   "source": [
    "# When you don't include quotation marks,\n",
    "# Python will try to search for a variable called Hello\n",
    "type(hellos)"
   ]
  },
  {
   "cell_type": "code",
   "execution_count": 48,
   "metadata": {},
   "outputs": [
    {
     "data": {
      "text/plain": [
       "str"
      ]
     },
     "execution_count": 48,
     "metadata": {},
     "output_type": "execute_result"
    }
   ],
   "source": [
    "# This commands works if we already defined a variable, e.g.\n",
    "type(message_hello)"
   ]
  },
  {
   "attachments": {},
   "cell_type": "markdown",
   "metadata": {},
   "source": [
    "<font size=\"5\"> \n",
    "\n",
    "Examples 2: Operations with mixed types don't work"
   ]
  },
  {
   "cell_type": "code",
   "execution_count": 63,
   "metadata": {},
   "outputs": [
    {
     "name": "stdout",
     "output_type": "stream",
     "text": [
      "hola3\n"
     ]
    }
   ],
   "source": [
    "# If you add a number and a string you get a concatenated string\n",
    "print(\"hola\" + str(number3))"
   ]
  },
  {
   "cell_type": "code",
   "execution_count": null,
   "metadata": {},
   "outputs": [
    {
     "name": "stdout",
     "output_type": "stream",
     "text": [
      "hola3\n"
     ]
    }
   ],
   "source": [
    "# You can convert an integer to string first\n",
    "print(\"hola\" + str(number3))"
   ]
  },
  {
   "attachments": {},
   "cell_type": "markdown",
   "metadata": {},
   "source": [
    "<font size=\"5\"> \n",
    "\n",
    "Examples 3: Not all mathematical operations on numeric lists work\n",
    "\n",
    "- We need a different object: arrays!\n",
    "- We'll look into this in future classes"
   ]
  },
  {
   "cell_type": "code",
   "execution_count": 66,
   "metadata": {},
   "outputs": [
    {
     "data": {
      "text/plain": [
       "[1, 2, 3, 4, 5, 2]"
      ]
     },
     "execution_count": 66,
     "metadata": {},
     "output_type": "execute_result"
    }
   ],
   "source": [
    "list(list_numbers) + [2]"
   ]
  }
 ],
 "metadata": {
  "kernelspec": {
   "display_name": "Python 3",
   "language": "python",
   "name": "python3"
  },
  "language_info": {
   "codemirror_mode": {
    "name": "ipython",
    "version": 3
   },
   "file_extension": ".py",
   "mimetype": "text/x-python",
   "name": "python",
   "nbconvert_exporter": "python",
   "pygments_lexer": "ipython3",
   "version": "3.11.4"
  },
  "orig_nbformat": 4,
  "vscode": {
   "interpreter": {
    "hash": "aee8b7b246df8f9039afb4144a1f6fd8d2ca17a180786b69acc140d282b71a49"
   }
  }
 },
 "nbformat": 4,
 "nbformat_minor": 2
}
